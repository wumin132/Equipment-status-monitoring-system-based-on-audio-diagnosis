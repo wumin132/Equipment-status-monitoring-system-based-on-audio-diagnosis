{
 "cells": [
  {
   "cell_type": "code",
   "execution_count": 12,
   "metadata": {},
   "outputs": [
    {
     "name": "stdout",
     "output_type": "stream",
     "text": [
      "(2330, 1025)\n"
     ]
    }
   ],
   "source": [
    "import numpy as np\n",
    "import pandas as pd\n",
    "from joblib import dump, load\n",
    "import matplotlib.pyplot as plt\n",
    "import matplotlib\n",
    "matplotlib.rc(\"font\", family='Microsoft YaHei')\n",
    "\n",
    "\n",
    "# 加载数据\n",
    "original_data = load('samples_data') \n",
    "# 将DataFrame转换为NumPy数组\n",
    "original_data = original_data.values\n",
    "print(original_data.shape)"
   ]
  },
  {
   "cell_type": "code",
   "execution_count": 18,
   "metadata": {},
   "outputs": [
    {
     "data": {
      "text/plain": [
       "['test_label']"
      ]
     },
     "execution_count": 18,
     "metadata": {},
     "output_type": "execute_result"
    }
   ],
   "source": [
    "import numpy as np\n",
    "from scipy.stats import kurtosis\n",
    "from scipy.stats import entropy\n",
    "import nolds\n",
    "from scipy.fft import fft, fftfreq\n",
    "from scipy.signal import welch, find_peaks\n",
    "from scipy.stats import skew\n",
    "\n",
    "# 数据集制作\n",
    "def make_dataset(data, split_rate = [0.7, 0.3]):\n",
    "    '''\n",
    "        参数:\n",
    "        data   : 输入样本数据\n",
    "        split_rate : 训练集、测试集划分比例\n",
    "\n",
    "        返回:\n",
    "        train_set: 训练集数据\n",
    "        train_label: 训练集标签\n",
    "        test_set: 测试集数据\n",
    "        test_label: 测试集标签\n",
    "    '''\n",
    "    dataset = []\n",
    "    for sample in data:\n",
    "        features_lable = []\n",
    "        # 提取信号\n",
    "        signal = sample[0:1024]\n",
    "        # 将NumPy数组转换为列表\n",
    "        signal = signal.tolist()\n",
    "        # 1. 峭度（Kurtosis）：衡量信号的尖锐程度，用于检测信号中的高频成分。\n",
    "        kurt = kurtosis(signal)\n",
    "        features_lable.append(kurt)\n",
    "        # 2. 熵值（Entropy）：衡量信号的复杂程度和随机性，用于检测信号的频谱特性。\n",
    "        ent = entropy(signal)#  -inf 表示  负无穷（-inf），则表示信号的熵为无穷大。这通常意味着信号具有非常高的不确定性和复杂性，其中的值没有明显的模式或规律\n",
    "        if (ent<-0.000001 ):\n",
    "            ent = 0\n",
    "        features_lable.append(ent)\n",
    "        # 3. 分形值（Fractal Dimension）：衡量信号的自相似性和复杂度，用于分析信号的分形特征。\n",
    "        fd = nolds.dfa(signal)\n",
    "        features_lable.append(fd)\n",
    "        # 4. 波形指标（Waveform Indicators）：峰值因子，用于分析信号的时域特征。\n",
    "        peak_factor = np.max(np.abs(signal)) / np.sqrt(np.mean(np.square(signal)))\n",
    "        features_lable.append(peak_factor)\n",
    "        # 5. 波形指标（Waveform Indicators）：脉冲因子，用于分析信号的时域特征。\n",
    "        pulse_factor = np.max(np.abs(signal)) / np.mean(np.abs(signal))\n",
    "        features_lable.append(pulse_factor)\n",
    "        # 6. 波形指标（Waveform Indicators）：裕度因子，用于分析信号的时域特征。\n",
    "        crest_factor = np.max(np.abs(signal)) / np.mean(np.sqrt(np.mean(np.square(signal))))\n",
    "        features_lable.append(crest_factor)\n",
    "        # 7. 频谱指标（Spectral Indicators）：能量比值，用于分析信号的频域特征。\n",
    "        # 计算信号的频谱\n",
    "        sampling_rate = 1024  # 采样率\n",
    "        freq, power_spectrum = welch(signal, fs=sampling_rate)\n",
    "        # 计算峰值频率\n",
    "        peak_freqs, _ = find_peaks(power_spectrum, height=np.mean(power_spectrum))  # 找到峰值\n",
    "        # 计算能量比值\n",
    "        total_energy = np.sum(power_spectrum)\n",
    "        peak_energy = np.sum(power_spectrum[peak_freqs])\n",
    "        energy_ratio = peak_energy / total_energy\n",
    "        features_lable.append(energy_ratio)\n",
    "        # 8. 频谱指标（Spectral Indicators）：谱线形指标，用于分析信号的频域特征。\n",
    "        # 计算谱线形指标\n",
    "        spectral_flatness = np.exp(np.mean(np.log(power_spectrum))) / (np.mean(power_spectrum))\n",
    "        features_lable.append(spectral_flatness)\n",
    "        # 9. 统计特征（Statistical Features）：均值，用于描述信号的统计特性。\n",
    "        mean = np.mean(signal)\n",
    "        features_lable.append(mean)\n",
    "        # 10. 统计特征（Statistical Features）：方差，用于描述信号的统计特性。\n",
    "        variance = np.var(signal)\n",
    "        features_lable.append(variance)\n",
    "        # 11. 统计特征（Statistical Features）：偏度，用于描述信号的统计特性。\n",
    "        skewness = skew(signal)\n",
    "        features_lable.append(skewness)\n",
    "        # 12. 振动特征（Vibration Features）：包括峰值振动、有效值振动等，用于描述信号的振动特性。\n",
    "        peak_vibration = np.max(np.abs(signal))\n",
    "        features_lable.append(peak_vibration)\n",
    "        # 13. 振动特征（Vibration Features）：包括峰值振动、有效值振动等，用于描述信号的振动特性。\n",
    "        rms_vibration = np.sqrt(np.mean(np.square(signal)))\n",
    "        features_lable.append(rms_vibration)\n",
    "        # 最后一步 添加标签\n",
    "        features_lable.append(sample[-1])\n",
    "        dataset.append(features_lable)\n",
    "\n",
    "    # 将列表转换为NumPy数组\n",
    "    dataset = np.array(dataset)\n",
    "\n",
    "    # 划分数据集\n",
    "    #序列数组\n",
    "    sample_len = dataset.shape[0] # 样本总长度\n",
    "    train_len = int(sample_len*split_rate[0])  # 向下取整\n",
    "    # 变量数据 划分训练集、测试集\n",
    "    train_set = dataset[:train_len, :13] # 训练集\n",
    "    test_set = dataset[train_len:, :13]  # 测试集\n",
    "    # y标签 划分训练集、测试集\n",
    "    train_label = dataset[:train_len, -1] # 训练集\n",
    "    test_label = dataset[train_len:, -1]  # 测试集\n",
    "\n",
    "    return train_set, train_label, test_set, test_label\n",
    "\n",
    "\n",
    "split_rate = [0.7, 0.3]\n",
    "\n",
    "# 制作数据集\n",
    "train_set, train_label, test_set, test_label = make_dataset(original_data, split_rate)\n",
    "# 保存数据\n",
    "dump(train_set, 'train_set') \n",
    "dump(train_label, 'train_label') \n",
    "dump(test_set, 'test_set') \n",
    "dump(test_label, 'test_label') "
   ]
  },
  {
   "cell_type": "code",
   "execution_count": 19,
   "metadata": {},
   "outputs": [
    {
     "name": "stdout",
     "output_type": "stream",
     "text": [
      "数据 形状：\n",
      "(1631, 13) (1631,)\n",
      "(699, 13) (699,)\n"
     ]
    }
   ],
   "source": [
    "print('数据 形状：')\n",
    "print(train_set.shape, train_label.shape)\n",
    "print(test_set.shape, test_label.shape)"
   ]
  }
 ],
 "metadata": {
  "kernelspec": {
   "display_name": "Python 3 (ipykernel)",
   "language": "python",
   "name": "python3"
  },
  "language_info": {
   "codemirror_mode": {
    "name": "ipython",
    "version": 3
   },
   "file_extension": ".py",
   "mimetype": "text/x-python",
   "name": "python",
   "nbconvert_exporter": "python",
   "pygments_lexer": "ipython3",
   "version": "3.11.8"
  }
 },
 "nbformat": 4,
 "nbformat_minor": 4
}
